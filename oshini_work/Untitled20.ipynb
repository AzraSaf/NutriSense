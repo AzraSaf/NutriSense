{
  "nbformat": 4,
  "nbformat_minor": 0,
  "metadata": {
    "colab": {
      "provenance": []
    },
    "kernelspec": {
      "name": "python3",
      "display_name": "Python 3"
    },
    "language_info": {
      "name": "python"
    }
  },
  "cells": [
    {
      "cell_type": "code",
      "execution_count": null,
      "metadata": {
        "colab": {
          "base_uri": "https://localhost:8080/"
        },
        "id": "aWiBZe5jwSUh",
        "outputId": "4f277cfe-63c8-4c24-b46d-4f7d5d7e520e"
      },
      "outputs": [
        {
          "output_type": "stream",
          "name": "stdout",
          "text": [
            "Enter location: jaffna\n",
            "Location: jaffna\n",
            "Soil Type: Red Yellow Latasol Soil\n",
            "Soil pH: 5.5\n"
          ]
        }
      ],
      "source": [
        "import pandas as pd\n",
        "\n",
        "def get_soil_ph(location):\n",
        "    # Load the updated Soil Type file\n",
        "    file_path = \"/content/drive/MyDrive/Soil Type.xlsx\"\n",
        "    df = pd.read_excel(file_path)\n",
        "\n",
        "    # Ensure column names match\n",
        "    df.columns = df.columns.str.strip()\n",
        "\n",
        "    # Clean 'Region' column (remove extra spaces or hidden characters)\n",
        "    df['Region'] = df['Region'].astype(str).str.replace(r'\\s+', ' ', regex=True).str.strip()\n",
        "\n",
        "    # Find the soil pH for the given location\n",
        "    result = df[df['Region'].str.lower() == location.lower().strip()]\n",
        "\n",
        "    if not result.empty:\n",
        "        soil_type = result.iloc[0]['Soil Type']\n",
        "        soil_ph = result.iloc[0]['Soil ph']\n",
        "        return f\"Location: {location}\\nSoil Type: {soil_type}\\nSoil pH: {soil_ph}\"\n",
        "    else:\n",
        "        return \"Location not found in database.\"\n",
        "\n",
        "# Example usage\n",
        "user_location = input(\"Enter location: \")\n",
        "print(get_soil_ph(user_location))\n"
      ]
    },
    {
      "cell_type": "code",
      "source": [
        "!pip install openmeteo-requests\n",
        "!pip install requests-cache retry-requests numpy pandas"
      ],
      "metadata": {
        "colab": {
          "base_uri": "https://localhost:8080/"
        },
        "id": "P2YSqUOx79oe",
        "outputId": "2f0eb3df-1f21-4eb0-e06f-0201354c62e9"
      },
      "execution_count": null,
      "outputs": [
        {
          "output_type": "stream",
          "name": "stdout",
          "text": [
            "Collecting openmeteo-requests\n",
            "  Downloading openmeteo_requests-1.3.0-py3-none-any.whl.metadata (9.7 kB)\n",
            "Collecting openmeteo-sdk>=1.4.0 (from openmeteo-requests)\n",
            "  Downloading openmeteo_sdk-1.18.6-py3-none-any.whl.metadata (935 bytes)\n",
            "Requirement already satisfied: requests in /usr/local/lib/python3.11/dist-packages (from openmeteo-requests) (2.32.3)\n",
            "Collecting flatbuffers==24.3.25 (from openmeteo-sdk>=1.4.0->openmeteo-requests)\n",
            "  Downloading flatbuffers-24.3.25-py2.py3-none-any.whl.metadata (850 bytes)\n",
            "Requirement already satisfied: charset-normalizer<4,>=2 in /usr/local/lib/python3.11/dist-packages (from requests->openmeteo-requests) (3.4.1)\n",
            "Requirement already satisfied: idna<4,>=2.5 in /usr/local/lib/python3.11/dist-packages (from requests->openmeteo-requests) (3.10)\n",
            "Requirement already satisfied: urllib3<3,>=1.21.1 in /usr/local/lib/python3.11/dist-packages (from requests->openmeteo-requests) (2.3.0)\n",
            "Requirement already satisfied: certifi>=2017.4.17 in /usr/local/lib/python3.11/dist-packages (from requests->openmeteo-requests) (2025.1.31)\n",
            "Downloading openmeteo_requests-1.3.0-py3-none-any.whl (6.0 kB)\n",
            "Downloading openmeteo_sdk-1.18.6-py3-none-any.whl (7.6 kB)\n",
            "Downloading flatbuffers-24.3.25-py2.py3-none-any.whl (26 kB)\n",
            "Installing collected packages: flatbuffers, openmeteo-sdk, openmeteo-requests\n",
            "  Attempting uninstall: flatbuffers\n",
            "    Found existing installation: flatbuffers 25.1.24\n",
            "    Uninstalling flatbuffers-25.1.24:\n",
            "      Successfully uninstalled flatbuffers-25.1.24\n",
            "Successfully installed flatbuffers-24.3.25 openmeteo-requests-1.3.0 openmeteo-sdk-1.18.6\n",
            "Collecting requests-cache\n",
            "  Downloading requests_cache-1.2.1-py3-none-any.whl.metadata (9.9 kB)\n",
            "Collecting retry-requests\n",
            "  Downloading retry_requests-2.0.0-py3-none-any.whl.metadata (2.6 kB)\n",
            "Requirement already satisfied: numpy in /usr/local/lib/python3.11/dist-packages (1.26.4)\n",
            "Requirement already satisfied: pandas in /usr/local/lib/python3.11/dist-packages (2.2.2)\n",
            "Requirement already satisfied: attrs>=21.2 in /usr/local/lib/python3.11/dist-packages (from requests-cache) (25.1.0)\n",
            "Collecting cattrs>=22.2 (from requests-cache)\n",
            "  Downloading cattrs-24.1.2-py3-none-any.whl.metadata (8.4 kB)\n",
            "Requirement already satisfied: platformdirs>=2.5 in /usr/local/lib/python3.11/dist-packages (from requests-cache) (4.3.6)\n",
            "Requirement already satisfied: requests>=2.22 in /usr/local/lib/python3.11/dist-packages (from requests-cache) (2.32.3)\n",
            "Collecting url-normalize>=1.4 (from requests-cache)\n",
            "  Downloading url_normalize-1.4.3-py2.py3-none-any.whl.metadata (3.1 kB)\n",
            "Requirement already satisfied: urllib3>=1.25.5 in /usr/local/lib/python3.11/dist-packages (from requests-cache) (2.3.0)\n",
            "Requirement already satisfied: python-dateutil>=2.8.2 in /usr/local/lib/python3.11/dist-packages (from pandas) (2.8.2)\n",
            "Requirement already satisfied: pytz>=2020.1 in /usr/local/lib/python3.11/dist-packages (from pandas) (2025.1)\n",
            "Requirement already satisfied: tzdata>=2022.7 in /usr/local/lib/python3.11/dist-packages (from pandas) (2025.1)\n",
            "Requirement already satisfied: six>=1.5 in /usr/local/lib/python3.11/dist-packages (from python-dateutil>=2.8.2->pandas) (1.17.0)\n",
            "Requirement already satisfied: charset-normalizer<4,>=2 in /usr/local/lib/python3.11/dist-packages (from requests>=2.22->requests-cache) (3.4.1)\n",
            "Requirement already satisfied: idna<4,>=2.5 in /usr/local/lib/python3.11/dist-packages (from requests>=2.22->requests-cache) (3.10)\n",
            "Requirement already satisfied: certifi>=2017.4.17 in /usr/local/lib/python3.11/dist-packages (from requests>=2.22->requests-cache) (2025.1.31)\n",
            "Downloading requests_cache-1.2.1-py3-none-any.whl (61 kB)\n",
            "\u001b[2K   \u001b[90m━━━━━━━━━━━━━━━━━━━━━━━━━━━━━━━━━━━━━━━━\u001b[0m \u001b[32m61.4/61.4 kB\u001b[0m \u001b[31m2.8 MB/s\u001b[0m eta \u001b[36m0:00:00\u001b[0m\n",
            "\u001b[?25hDownloading retry_requests-2.0.0-py3-none-any.whl (15 kB)\n",
            "Downloading cattrs-24.1.2-py3-none-any.whl (66 kB)\n",
            "\u001b[2K   \u001b[90m━━━━━━━━━━━━━━━━━━━━━━━━━━━━━━━━━━━━━━━━\u001b[0m \u001b[32m66.4/66.4 kB\u001b[0m \u001b[31m3.3 MB/s\u001b[0m eta \u001b[36m0:00:00\u001b[0m\n",
            "\u001b[?25hDownloading url_normalize-1.4.3-py2.py3-none-any.whl (6.8 kB)\n",
            "Installing collected packages: url-normalize, cattrs, retry-requests, requests-cache\n",
            "Successfully installed cattrs-24.1.2 requests-cache-1.2.1 retry-requests-2.0.0 url-normalize-1.4.3\n"
          ]
        }
      ]
    },
    {
      "cell_type": "code",
      "source": [
        "import openmeteo_requests\n",
        "import requests_cache\n",
        "import pandas as pd\n",
        "from retry_requests import retry\n",
        "from geopy.geocoders import Nominatim\n",
        "\n",
        "def get_lat_lon(location_name):\n",
        "    geolocator = Nominatim(user_agent=\"geoapi\")\n",
        "    location = geolocator.geocode(location_name)\n",
        "    if location:\n",
        "        return location.latitude, location.longitude\n",
        "    else:\n",
        "        print(\"Location not found. Please enter a valid location.\")\n",
        "        return None, None\n",
        "\n",
        "def fetch_weather_data(latitude, longitude):\n",
        "    cache_session = requests_cache.CachedSession('.cache', expire_after=-1)\n",
        "    retry_session = retry(cache_session, retries=5, backoff_factor=0.2)\n",
        "    openmeteo = openmeteo_requests.Client(session=retry_session)\n",
        "\n",
        "    url = \"https://archive-api.open-meteo.com/v1/archive\"\n",
        "    params = {\n",
        "        \"latitude\": latitude,\n",
        "        \"longitude\": longitude,\n",
        "        \"start_date\": \"2024-01-01\",\n",
        "        \"end_date\": \"2025-01-01\",\n",
        "        \"hourly\": [\"temperature_2m\", \"relative_humidity_2m\", \"rain\"]\n",
        "    }\n",
        "\n",
        "    responses = openmeteo.weather_api(url, params=params)\n",
        "    response = responses[0]\n",
        "\n",
        "    print(f\"Coordinates {response.Latitude()}°N {response.Longitude()}°E\")\n",
        "    print(f\"Elevation {response.Elevation()} m asl\")\n",
        "    print(f\"Timezone {response.Timezone()} {response.TimezoneAbbreviation()}\")\n",
        "    print(f\"Timezone difference to GMT+0 {response.UtcOffsetSeconds()} s\")\n",
        "\n",
        "    hourly = response.Hourly()\n",
        "    hourly_temperature_2m = hourly.Variables(0).ValuesAsNumpy()\n",
        "    hourly_relative_humidity_2m = hourly.Variables(1).ValuesAsNumpy()\n",
        "    hourly_rain = hourly.Variables(2).ValuesAsNumpy()\n",
        "\n",
        "    hourly_data = {\"date\": pd.date_range(\n",
        "        start=pd.to_datetime(hourly.Time(), unit=\"s\", utc=True),\n",
        "        end=pd.to_datetime(hourly.TimeEnd(), unit=\"s\", utc=True),\n",
        "        freq=pd.Timedelta(seconds=hourly.Interval()),\n",
        "        inclusive=\"left\"\n",
        "    )}\n",
        "\n",
        "    hourly_data[\"temperature_2m\"] = hourly_temperature_2m\n",
        "    hourly_data[\"relative_humidity_2m\"] = hourly_relative_humidity_2m\n",
        "    hourly_data[\"rain\"] = hourly_rain\n",
        "\n",
        "    hourly_dataframe = pd.DataFrame(data=hourly_data)\n",
        "\n",
        "    avg_temperature = hourly_dataframe[\"temperature_2m\"].mean()\n",
        "    avg_humidity = hourly_dataframe[\"relative_humidity_2m\"].mean()\n",
        "    avg_rain = hourly_dataframe[\"rain\"].mean()\n",
        "\n",
        "    print(\"Average Temperature (°C):\", avg_temperature)\n",
        "    print(\"Average Relative Humidity (%):\", avg_humidity)\n",
        "    print(\"Average Rainfall (mm):\", avg_rain)\n",
        "\n",
        "if __name__ == \"__main__\":\n",
        "    location_name = input(\"Enter location name: \")\n",
        "    lat, lon = get_lat_lon(location_name)\n",
        "    if lat is not None and lon is not None:\n",
        "        fetch_weather_data(lat, lon)\n"
      ],
      "metadata": {
        "id": "_Xvs3BCUwgAN",
        "colab": {
          "base_uri": "https://localhost:8080/"
        },
        "outputId": "2619c66f-0007-46d5-d237-ad86c8b99162"
      },
      "execution_count": null,
      "outputs": [
        {
          "output_type": "stream",
          "name": "stdout",
          "text": [
            "Enter location name: jaffna\n",
            "Coordinates 9.666080474853516°N 80.03487396240234°E\n",
            "Elevation 5.0 m asl\n",
            "Timezone None None\n",
            "Timezone difference to GMT+0 0 s\n",
            "Average Temperature (°C): 28.278938\n",
            "Average Relative Humidity (%): 78.20544\n",
            "Average Rainfall (mm): 0.18700045\n"
          ]
        }
      ]
    },
    {
      "cell_type": "code",
      "source": [],
      "metadata": {
        "id": "47qkamcqGztY"
      },
      "execution_count": null,
      "outputs": []
    }
  ]
}