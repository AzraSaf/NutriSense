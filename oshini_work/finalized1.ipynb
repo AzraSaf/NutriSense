{
  "nbformat": 4,
  "nbformat_minor": 0,
  "metadata": {
    "colab": {
      "provenance": []
    },
    "kernelspec": {
      "name": "python3",
      "display_name": "Python 3"
    },
    "language_info": {
      "name": "python"
    }
  },
  "cells": [
    {
      "cell_type": "code",
      "execution_count": 4,
      "metadata": {
        "colab": {
          "base_uri": "https://localhost:8080/"
        },
        "id": "PZZl9zvv1QTn",
        "outputId": "fe00dee4-fd65-4b2e-d7f9-ca83bc21fe2f"
      },
      "outputs": [
        {
          "output_type": "stream",
          "name": "stdout",
          "text": [
            "Enter the location: nuwara eliya\n",
            "Top recommended crops for nuwara eliya:\n",
            "rice\n",
            "grapes\n",
            "jute\n",
            "pigeonpeas\n",
            "orange\n",
            "maize\n",
            "watermelon\n",
            "banana\n",
            "blackgram\n",
            "chickpea\n"
          ]
        }
      ],
      "source": [
        "import pandas as pd\n",
        "import numpy as np\n",
        "from sklearn.model_selection import train_test_split, StratifiedKFold, cross_val_score\n",
        "from sklearn.ensemble import RandomForestClassifier\n",
        "from sklearn.preprocessing import LabelEncoder\n",
        "\n",
        "# Load plant dataset\n",
        "file_path = \"/content/drive/MyDrive/crops .csv\"\n",
        "data = pd.read_csv(file_path)\n",
        "\n",
        "# Separate features and target\n",
        "X = data[['temperature', 'humidity', 'ph', 'rainfall']]\n",
        "y = data['label']\n",
        "\n",
        "# Encode target labels\n",
        "label_encoder = LabelEncoder()\n",
        "y_encoded = label_encoder.fit_transform(y)\n",
        "\n",
        "# Split data\n",
        "X_train, X_test, y_train, y_test = train_test_split(\n",
        "    X, y_encoded, test_size=0.3, stratify=y_encoded, random_state=42\n",
        ")\n",
        "\n",
        "# Train Random Forest model\n",
        "rf_model = RandomForestClassifier(n_estimators=100, random_state=42)\n",
        "cv = StratifiedKFold(n_splits=5, shuffle=True, random_state=42)\n",
        "cross_val_score(rf_model, X_train, y_train, cv=cv, scoring='accuracy')\n",
        "rf_model.fit(X_train, y_train)\n",
        "\n",
        "\n",
        "# Load soil pH dataset\n",
        "def get_soil_ph_range(location):\n",
        "    soil_file_path = \"/content/drive/MyDrive/ph.xlsx\"\n",
        "    df = pd.read_excel(soil_file_path)\n",
        "    df.columns = df.columns.str.strip().str.lower()\n",
        "    location = location.strip().lower()\n",
        "\n",
        "    result = df[df['location'] == location]\n",
        "    if not result.empty:\n",
        "        return result.iloc[0]['min ph'], result.iloc[0]['max ph']\n",
        "    return None, None\n",
        "\n",
        "\n",
        "# Load weather data\n",
        "def get_weather_data(location):\n",
        "    weather_file_path = \"/content/drive/MyDrive/weather data1.xlsx\"\n",
        "    df = pd.read_excel(weather_file_path)\n",
        "    df.columns = df.columns.str.strip().str.lower()\n",
        "    location = location.strip().lower()\n",
        "\n",
        "    result = df[df['location'] == location]\n",
        "    if not result.empty:\n",
        "        return result.iloc[0]['temperature'], result.iloc[0]['humidity'], result.iloc[0]['rainfall']\n",
        "    return None, None, None\n",
        "\n",
        "\n",
        "# Function to get plant recommendations\n",
        "def predict_top_crops(location, top_n=10):\n",
        "    min_ph, max_ph = get_soil_ph_range(location)\n",
        "    if min_ph is None or max_ph is None:\n",
        "        return {\"error\": f\"Soil pH data not found for {location}.\"}\n",
        "\n",
        "    temperature, humidity, rainfall = get_weather_data(location)\n",
        "    if temperature is None or humidity is None or rainfall is None:\n",
        "        return {\"error\": f\"Weather data not found for {location}.\"}\n",
        "\n",
        "    # Prepare input sample\n",
        "    input_features = pd.DataFrame([[temperature, humidity, (min_ph+max_ph)/2, rainfall]],\n",
        "                                  columns=['temperature', 'humidity', 'ph', 'rainfall'])\n",
        "\n",
        "    # Predict top crops\n",
        "    probabilities = rf_model.predict_proba(input_features)[0]\n",
        "    top_indices = np.argsort(probabilities)[-top_n:][::-1]\n",
        "    top_crops = [label_encoder.classes_[i] for i in top_indices if i < len(label_encoder.classes_)]\n",
        "\n",
        "    return {\"plants\": [{\"name\": crop} for crop in top_crops]}\n",
        "\n",
        "# Get user input for location\n",
        "location = input(\"Enter the location: \")\n",
        "\n",
        "# Example usage\n",
        "result = predict_top_crops(location)\n",
        "if 'error' in result:\n",
        "    print(result['error'])\n",
        "else:\n",
        "    print(f\"Top recommended crops for {location}:\")\n",
        "    for plant in result['plants']:\n",
        "        print(f\"{plant['name']}\")\n"
      ]
    },
    {
      "cell_type": "code",
      "source": [],
      "metadata": {
        "id": "UdQcTFnI1zGx"
      },
      "execution_count": null,
      "outputs": []
    }
  ]
}