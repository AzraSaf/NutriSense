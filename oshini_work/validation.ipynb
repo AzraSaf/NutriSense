{
  "nbformat": 4,
  "nbformat_minor": 0,
  "metadata": {
    "colab": {
      "provenance": []
    },
    "kernelspec": {
      "name": "python3",
      "display_name": "Python 3"
    },
    "language_info": {
      "name": "python"
    }
  },
  "cells": [
    {
      "cell_type": "code",
      "execution_count": null,
      "metadata": {
        "colab": {
          "base_uri": "https://localhost:8080/"
        },
        "id": "wnkyQYMcs7jk",
        "outputId": "57a24029-722f-4250-c6c2-97e694ac3d70"
      },
      "outputs": [
        {
          "output_type": "stream",
          "name": "stdout",
          "text": [
            "Columns in dataset: Index(['temperature', 'rainfall', 'humidity'], dtype='object')\n",
            "Train size: 1760, Test size: 440\n"
          ]
        }
      ],
      "source": [
        "import pandas as pd\n",
        "from sklearn.model_selection import train_test_split\n",
        "\n",
        "# Load the dataset\n",
        "file_path =  \"/content/drive/MyDrive/Kaggel.xlsx\"  # Update the path if needed\n",
        "df = pd.read_excel(file_path)\n",
        "\n",
        "# Display column names to ensure correct selection\n",
        "print(\"Columns in dataset:\", df.columns)\n",
        "\n",
        "# If there's a 'date' column, ensure it's in datetime format\n",
        "if 'date' in df.columns:\n",
        "    df['date'] = pd.to_datetime(df['date'])\n",
        "    df = df.sort_values(by=\"date\")  # Sort by time\n",
        "\n",
        "# Select relevant features\n",
        "features = ['temperature', 'rainfall', 'humidity']\n",
        "df = df[features].dropna()  # Drop rows with missing values\n",
        "\n",
        "# Define input (X) and target (y) - same features for validation\n",
        "X = df[['temperature', 'rainfall', 'humidity']]\n",
        "y = df[['temperature', 'rainfall', 'humidity']]\n",
        "\n",
        "# Time-based split (80% train, 20% test)\n",
        "train_size = int(len(df) * 0.8)\n",
        "X_train, X_test = X.iloc[:train_size], X.iloc[train_size:]\n",
        "y_train, y_test = y.iloc[:train_size], y.iloc[train_size:]\n",
        "\n",
        "# Print dataset sizes\n",
        "print(f\"Train size: {len(X_train)}, Test size: {len(X_test)}\")\n"
      ]
    },
    {
      "cell_type": "code",
      "source": [
        "import pandas as pd\n",
        "import numpy as np\n",
        "from sklearn.model_selection import train_test_split\n",
        "from sklearn.ensemble import RandomForestRegressor\n",
        "from sklearn.metrics import mean_absolute_error\n",
        "import joblib  # To save the trained model\n",
        "\n",
        "\n",
        "# Time-based split (80% train, 20% test)\n",
        "train_size = int(len(df) * 0.8)\n",
        "X_train, X_test = X.iloc[:train_size], X.iloc[train_size:]\n",
        "y_train, y_test = y.iloc[:train_size], y.iloc[train_size:]\n",
        "\n",
        "# Train Random Forest Regressor\n",
        "model = RandomForestRegressor(n_estimators=100, random_state=42)\n",
        "model.fit(X_train, y_train)\n",
        "\n",
        "# Predict on test set\n",
        "y_pred = model.predict(X_test)\n",
        "\n",
        "# Evaluate model performance\n",
        "mae = mean_absolute_error(y_test, y_pred)\n",
        "print(f\"Mean Absolute Error: {mae:.2f}\")\n",
        "\n",
        "# Save the trained model for future validation\n",
        "joblib.dump(model, \"weather_model.pkl\")\n",
        "print(\"Model saved as weather_model.pkl\")"
      ],
      "metadata": {
        "colab": {
          "base_uri": "https://localhost:8080/"
        },
        "id": "tP_YkV7ss-1e",
        "outputId": "177812ef-2614-4df0-ee16-c3c415187cdc"
      },
      "execution_count": null,
      "outputs": [
        {
          "output_type": "stream",
          "name": "stdout",
          "text": [
            "Mean Absolute Error: 2.38\n",
            "Model saved as weather_model.pkl\n"
          ]
        }
      ]
    },
    {
      "cell_type": "code",
      "source": [
        "from sklearn.metrics import r2_score, mean_absolute_error\n",
        "import pandas as pd\n",
        "import joblib\n",
        "import numpy as np\n",
        "\n",
        "# Load the trained model\n",
        "model = joblib.load(\"weather_model.pkl\")\n",
        "\n",
        "# Read the real-time data\n",
        "def read_api_data(csv_file):\n",
        "    df = pd.read_excel(csv_file)\n",
        "    return df\n",
        "\n",
        "# Predict using the model\n",
        "def predict_weather(temperature, rainfall, humidity):\n",
        "    input_data = np.array([[temperature, rainfall, humidity]])\n",
        "    predicted_values = model.predict(input_data)[0]\n",
        "    return predicted_values\n",
        "\n",
        "# Compare predictions with real values\n",
        "def evaluate_model(df):\n",
        "    real_values = []\n",
        "    predicted_values = []\n",
        "\n",
        "    for _, row in df.iterrows():\n",
        "        real_temp, real_rain, real_hum = row['temperature'], row['rainfall'], row['humidity']\n",
        "        pred_temp, pred_rain, pred_hum = predict_weather(real_temp, real_rain, real_hum)\n",
        "\n",
        "        real_values.append([real_temp, real_rain, real_hum])\n",
        "        predicted_values.append([pred_temp, pred_rain, pred_hum])\n",
        "\n",
        "    real_values = np.array(real_values)\n",
        "    predicted_values = np.array(predicted_values)\n",
        "\n",
        "    # Calculate accuracy metrics\n",
        "    r2 = r2_score(real_values, predicted_values)\n",
        "    mae = mean_absolute_error(real_values, predicted_values)\n",
        "\n",
        "    print(f\"R² Score: {r2:.4f}\")  # Closer to 1 is better\n",
        "    print(f\"Mean Absolute Error: {mae:.2f}\")  # Lower is better\n",
        "\n",
        "# Load real-time data\n",
        "csv_file = \"/content/drive/MyDrive/THRD.xlsx\"\n",
        "real_data = read_api_data(csv_file)\n",
        "\n",
        "# Evaluate the model\n",
        "evaluate_model(real_data)"
      ],
      "metadata": {
        "colab": {
          "base_uri": "https://localhost:8080/"
        },
        "id": "nkhv1hLKtDyw",
        "outputId": "0970e5c4-6bea-438a-a06f-a4dd620f13c5"
      },
      "execution_count": null,
      "outputs": [
        {
          "output_type": "stream",
          "name": "stderr",
          "text": [
            "/usr/local/lib/python3.11/dist-packages/sklearn/utils/validation.py:2739: UserWarning: X does not have valid feature names, but RandomForestRegressor was fitted with feature names\n",
            "  warnings.warn(\n",
            "/usr/local/lib/python3.11/dist-packages/sklearn/utils/validation.py:2739: UserWarning: X does not have valid feature names, but RandomForestRegressor was fitted with feature names\n",
            "  warnings.warn(\n",
            "/usr/local/lib/python3.11/dist-packages/sklearn/utils/validation.py:2739: UserWarning: X does not have valid feature names, but RandomForestRegressor was fitted with feature names\n",
            "  warnings.warn(\n",
            "/usr/local/lib/python3.11/dist-packages/sklearn/utils/validation.py:2739: UserWarning: X does not have valid feature names, but RandomForestRegressor was fitted with feature names\n",
            "  warnings.warn(\n",
            "/usr/local/lib/python3.11/dist-packages/sklearn/utils/validation.py:2739: UserWarning: X does not have valid feature names, but RandomForestRegressor was fitted with feature names\n",
            "  warnings.warn(\n",
            "/usr/local/lib/python3.11/dist-packages/sklearn/utils/validation.py:2739: UserWarning: X does not have valid feature names, but RandomForestRegressor was fitted with feature names\n",
            "  warnings.warn(\n",
            "/usr/local/lib/python3.11/dist-packages/sklearn/utils/validation.py:2739: UserWarning: X does not have valid feature names, but RandomForestRegressor was fitted with feature names\n",
            "  warnings.warn(\n",
            "/usr/local/lib/python3.11/dist-packages/sklearn/utils/validation.py:2739: UserWarning: X does not have valid feature names, but RandomForestRegressor was fitted with feature names\n",
            "  warnings.warn(\n",
            "/usr/local/lib/python3.11/dist-packages/sklearn/utils/validation.py:2739: UserWarning: X does not have valid feature names, but RandomForestRegressor was fitted with feature names\n",
            "  warnings.warn(\n",
            "/usr/local/lib/python3.11/dist-packages/sklearn/utils/validation.py:2739: UserWarning: X does not have valid feature names, but RandomForestRegressor was fitted with feature names\n",
            "  warnings.warn(\n",
            "/usr/local/lib/python3.11/dist-packages/sklearn/utils/validation.py:2739: UserWarning: X does not have valid feature names, but RandomForestRegressor was fitted with feature names\n",
            "  warnings.warn(\n",
            "/usr/local/lib/python3.11/dist-packages/sklearn/utils/validation.py:2739: UserWarning: X does not have valid feature names, but RandomForestRegressor was fitted with feature names\n",
            "  warnings.warn(\n",
            "/usr/local/lib/python3.11/dist-packages/sklearn/utils/validation.py:2739: UserWarning: X does not have valid feature names, but RandomForestRegressor was fitted with feature names\n",
            "  warnings.warn(\n",
            "/usr/local/lib/python3.11/dist-packages/sklearn/utils/validation.py:2739: UserWarning: X does not have valid feature names, but RandomForestRegressor was fitted with feature names\n",
            "  warnings.warn(\n",
            "/usr/local/lib/python3.11/dist-packages/sklearn/utils/validation.py:2739: UserWarning: X does not have valid feature names, but RandomForestRegressor was fitted with feature names\n",
            "  warnings.warn(\n",
            "/usr/local/lib/python3.11/dist-packages/sklearn/utils/validation.py:2739: UserWarning: X does not have valid feature names, but RandomForestRegressor was fitted with feature names\n",
            "  warnings.warn(\n",
            "/usr/local/lib/python3.11/dist-packages/sklearn/utils/validation.py:2739: UserWarning: X does not have valid feature names, but RandomForestRegressor was fitted with feature names\n",
            "  warnings.warn(\n",
            "/usr/local/lib/python3.11/dist-packages/sklearn/utils/validation.py:2739: UserWarning: X does not have valid feature names, but RandomForestRegressor was fitted with feature names\n",
            "  warnings.warn(\n",
            "/usr/local/lib/python3.11/dist-packages/sklearn/utils/validation.py:2739: UserWarning: X does not have valid feature names, but RandomForestRegressor was fitted with feature names\n",
            "  warnings.warn(\n",
            "/usr/local/lib/python3.11/dist-packages/sklearn/utils/validation.py:2739: UserWarning: X does not have valid feature names, but RandomForestRegressor was fitted with feature names\n",
            "  warnings.warn(\n",
            "/usr/local/lib/python3.11/dist-packages/sklearn/utils/validation.py:2739: UserWarning: X does not have valid feature names, but RandomForestRegressor was fitted with feature names\n",
            "  warnings.warn(\n",
            "/usr/local/lib/python3.11/dist-packages/sklearn/utils/validation.py:2739: UserWarning: X does not have valid feature names, but RandomForestRegressor was fitted with feature names\n",
            "  warnings.warn(\n",
            "/usr/local/lib/python3.11/dist-packages/sklearn/utils/validation.py:2739: UserWarning: X does not have valid feature names, but RandomForestRegressor was fitted with feature names\n",
            "  warnings.warn(\n"
          ]
        },
        {
          "output_type": "stream",
          "name": "stdout",
          "text": [
            "R² Score: 0.3717\n",
            "Mean Absolute Error: 2.80\n"
          ]
        }
      ]
    },
    {
      "cell_type": "code",
      "source": [
        "import pandas as pd\n",
        "import joblib\n",
        "import numpy as np\n",
        "\n",
        "# Load the trained model\n",
        "model = joblib.load(\"weather_model.pkl\")\n",
        "\n",
        "# Step 1: Read the real-time data from the Excel file\n",
        "def read_api_data(excel_file):\n",
        "    # Load the Excel file\n",
        "    df = pd.read_excel(excel_file)\n",
        "\n",
        "    # Trim column names to avoid spaces\n",
        "    df.columns = df.columns.str.strip()\n",
        "\n",
        "    # Display the first few rows to ensure data is correct\n",
        "    print(df.head())\n",
        "\n",
        "    return df\n",
        "\n",
        "# Step 2: Predict expected values using the model\n",
        "def predict_weather(temperature, rainfall, humidity):\n",
        "    # Prepare the input for the model\n",
        "    input_data = np.array([[temperature, rainfall, humidity]])\n",
        "\n",
        "    # Predict values using the trained model\n",
        "    predicted_values = model.predict(input_data)\n",
        "\n",
        "    # Extract the predicted values\n",
        "    predicted_temp, predicted_rain, predicted_hum = predicted_values[0]\n",
        "\n",
        "    return predicted_temp, predicted_rain, predicted_hum\n",
        "\n",
        "# Step 3: Compare real-time data with predicted values and flag anomalies\n",
        "def compare_and_flag_anomalies(df, threshold=5):\n",
        "    anomalies = []\n",
        "\n",
        "    # Iterate over each row of the data\n",
        "    for index, row in df.iterrows():\n",
        "        real_temp = row['temperature']\n",
        "        real_rain = row['rainfall']\n",
        "        real_hum = row['humidity']\n",
        "\n",
        "        # Predict expected values\n",
        "        pred_temp, pred_rain, pred_hum = predict_weather(real_temp, real_rain, real_hum)\n",
        "\n",
        "        # Calculate percentage differences\n",
        "        temp_diff = abs(real_temp - pred_temp) / (real_temp + 1e-6) * 100\n",
        "        rain_diff = abs(real_rain - pred_rain) / (real_rain + 1e-6) * 100\n",
        "        hum_diff = abs(real_hum - pred_hum) / (real_hum + 1e-6) * 100\n",
        "\n",
        "        # Check if any of the differences exceed the threshold\n",
        "        if temp_diff > threshold or rain_diff > threshold or hum_diff > threshold:\n",
        "            anomalies.append({\n",
        "                'index': index,\n",
        "                'real_temp': real_temp, 'pred_temp': pred_temp, 'temp_diff (%)': round(temp_diff, 2),\n",
        "                'real_rain': real_rain, 'pred_rain': pred_rain, 'rain_diff (%)': round(rain_diff, 2),\n",
        "                'real_hum': real_hum, 'pred_hum': pred_hum, 'hum_diff (%)': round(hum_diff, 2)\n",
        "            })\n",
        "\n",
        "    return anomalies\n",
        "\n",
        "# Provide the correct path to your Excel file\n",
        "excel_file =  \"/content/drive/MyDrive/THRD.xlsx\"  # Update with your actual file path\n",
        "real_data = read_api_data(excel_file)\n",
        "\n",
        "# Compare and flag anomalies\n",
        "anomalies = compare_and_flag_anomalies(real_data, threshold=5)\n",
        "\n",
        "# Display the anomalies detected\n",
        "if anomalies:\n",
        "    print(\"\\nAnomalies detected:\")\n",
        "    for anomaly in anomalies:\n",
        "        print(anomaly)\n",
        "else:\n",
        "    print(\"\\nNo anomalies detected.\")\n"
      ],
      "metadata": {
        "colab": {
          "base_uri": "https://localhost:8080/"
        },
        "id": "t8wJN6g9tV5J",
        "outputId": "e31b91e0-84a1-407c-a5ef-5f0262c81783"
      },
      "execution_count": null,
      "outputs": [
        {
          "output_type": "stream",
          "name": "stdout",
          "text": [
            "   temperature  rainfall  humidity\n",
            "0       27.929   213.516        74\n",
            "1       26.716    93.400        74\n",
            "2       30.558   169.275        72\n",
            "3       25.916    67.875        77\n",
            "4       25.287   281.041        78\n"
          ]
        },
        {
          "output_type": "stream",
          "name": "stderr",
          "text": [
            "/usr/local/lib/python3.11/dist-packages/sklearn/utils/validation.py:2739: UserWarning: X does not have valid feature names, but RandomForestRegressor was fitted with feature names\n",
            "  warnings.warn(\n",
            "/usr/local/lib/python3.11/dist-packages/sklearn/utils/validation.py:2739: UserWarning: X does not have valid feature names, but RandomForestRegressor was fitted with feature names\n",
            "  warnings.warn(\n",
            "/usr/local/lib/python3.11/dist-packages/sklearn/utils/validation.py:2739: UserWarning: X does not have valid feature names, but RandomForestRegressor was fitted with feature names\n",
            "  warnings.warn(\n",
            "/usr/local/lib/python3.11/dist-packages/sklearn/utils/validation.py:2739: UserWarning: X does not have valid feature names, but RandomForestRegressor was fitted with feature names\n",
            "  warnings.warn(\n",
            "/usr/local/lib/python3.11/dist-packages/sklearn/utils/validation.py:2739: UserWarning: X does not have valid feature names, but RandomForestRegressor was fitted with feature names\n",
            "  warnings.warn(\n",
            "/usr/local/lib/python3.11/dist-packages/sklearn/utils/validation.py:2739: UserWarning: X does not have valid feature names, but RandomForestRegressor was fitted with feature names\n",
            "  warnings.warn(\n",
            "/usr/local/lib/python3.11/dist-packages/sklearn/utils/validation.py:2739: UserWarning: X does not have valid feature names, but RandomForestRegressor was fitted with feature names\n",
            "  warnings.warn(\n",
            "/usr/local/lib/python3.11/dist-packages/sklearn/utils/validation.py:2739: UserWarning: X does not have valid feature names, but RandomForestRegressor was fitted with feature names\n",
            "  warnings.warn(\n",
            "/usr/local/lib/python3.11/dist-packages/sklearn/utils/validation.py:2739: UserWarning: X does not have valid feature names, but RandomForestRegressor was fitted with feature names\n",
            "  warnings.warn(\n",
            "/usr/local/lib/python3.11/dist-packages/sklearn/utils/validation.py:2739: UserWarning: X does not have valid feature names, but RandomForestRegressor was fitted with feature names\n",
            "  warnings.warn(\n",
            "/usr/local/lib/python3.11/dist-packages/sklearn/utils/validation.py:2739: UserWarning: X does not have valid feature names, but RandomForestRegressor was fitted with feature names\n",
            "  warnings.warn(\n",
            "/usr/local/lib/python3.11/dist-packages/sklearn/utils/validation.py:2739: UserWarning: X does not have valid feature names, but RandomForestRegressor was fitted with feature names\n",
            "  warnings.warn(\n",
            "/usr/local/lib/python3.11/dist-packages/sklearn/utils/validation.py:2739: UserWarning: X does not have valid feature names, but RandomForestRegressor was fitted with feature names\n",
            "  warnings.warn(\n",
            "/usr/local/lib/python3.11/dist-packages/sklearn/utils/validation.py:2739: UserWarning: X does not have valid feature names, but RandomForestRegressor was fitted with feature names\n",
            "  warnings.warn(\n",
            "/usr/local/lib/python3.11/dist-packages/sklearn/utils/validation.py:2739: UserWarning: X does not have valid feature names, but RandomForestRegressor was fitted with feature names\n",
            "  warnings.warn(\n",
            "/usr/local/lib/python3.11/dist-packages/sklearn/utils/validation.py:2739: UserWarning: X does not have valid feature names, but RandomForestRegressor was fitted with feature names\n",
            "  warnings.warn(\n"
          ]
        },
        {
          "output_type": "stream",
          "name": "stdout",
          "text": [
            "\n",
            "Anomalies detected:\n",
            "{'index': 0, 'real_temp': 27.929, 'pred_temp': 27.349437975499978, 'temp_diff (%)': 2.08, 'real_rain': 213.516, 'pred_rain': 211.30321611500003, 'rain_diff (%)': 1.04, 'real_hum': 74.0, 'pred_hum': 83.61984733790001, 'hum_diff (%)': 13.0}\n",
            "{'index': 1, 'real_temp': 26.716, 'pred_temp': 24.246391423599995, 'temp_diff (%)': 9.24, 'real_rain': 93.4, 'pred_rain': 93.66910319539997, 'rain_diff (%)': 0.29, 'real_hum': 74.0, 'pred_hum': 74.08185330669998, 'hum_diff (%)': 0.11}\n",
            "{'index': 3, 'real_temp': 25.916, 'pred_temp': 25.650850374199962, 'temp_diff (%)': 1.02, 'real_rain': 67.875, 'pred_rain': 67.37948595310002, 'rain_diff (%)': 0.73, 'real_hum': 77.0, 'pred_hum': 81.10309091359993, 'hum_diff (%)': 5.33}\n",
            "{'index': 4, 'real_temp': 25.287, 'pred_temp': 25.25554333900003, 'temp_diff (%)': 0.12, 'real_rain': 281.041, 'pred_rain': 281.0992803389999, 'rain_diff (%)': 0.02, 'real_hum': 78.0, 'pred_hum': 82.11809860069994, 'hum_diff (%)': 5.28}\n",
            "{'index': 6, 'real_temp': 21.82, 'pred_temp': 26.643363686100024, 'temp_diff (%)': 22.11, 'real_rain': 169.108, 'pred_rain': 170.690165826, 'rain_diff (%)': 0.94, 'real_hum': 74.0, 'pred_hum': 78.71552111369999, 'hum_diff (%)': 6.37}\n",
            "{'index': 7, 'real_temp': 20.116, 'pred_temp': 26.626720386100033, 'temp_diff (%)': 32.37, 'real_rain': 150.833, 'pred_rain': 162.95098700000008, 'rain_diff (%)': 8.03, 'real_hum': 74.0, 'pred_hum': 77.98712792549992, 'hum_diff (%)': 5.39}\n",
            "{'index': 8, 'real_temp': 16.133, 'pred_temp': 24.373384109, 'temp_diff (%)': 51.08, 'real_rain': 181.091, 'pred_rain': 182.49744950599998, 'rain_diff (%)': 0.78, 'real_hum': 80.0, 'pred_hum': 80.79728777670006, 'hum_diff (%)': 1.0}\n",
            "{'index': 10, 'real_temp': 21.204, 'pred_temp': 26.7934675291, 'temp_diff (%)': 26.36, 'real_rain': 118.266, 'pred_rain': 118.08221426499993, 'rain_diff (%)': 0.16, 'real_hum': 76.0, 'pred_hum': 76.52550225949996, 'hum_diff (%)': 0.69}\n",
            "{'index': 11, 'real_temp': 27.3, 'pred_temp': 26.6625089741, 'temp_diff (%)': 2.34, 'real_rain': 190.325, 'pred_rain': 190.59962187100007, 'rain_diff (%)': 0.14, 'real_hum': 68.0, 'pred_hum': 64.32439730830006, 'hum_diff (%)': 5.41}\n",
            "{'index': 12, 'real_temp': 23.308, 'pred_temp': 27.11039373650003, 'temp_diff (%)': 16.31, 'real_rain': 152.325, 'pred_rain': 163.46848306200008, 'rain_diff (%)': 7.32, 'real_hum': 74.0, 'pred_hum': 79.5180971646999, 'hum_diff (%)': 7.46}\n",
            "{'index': 13, 'real_temp': 26.854, 'pred_temp': 28.423062512899993, 'temp_diff (%)': 5.84, 'real_rain': 76.116, 'pred_rain': 80.16946102300005, 'rain_diff (%)': 5.33, 'real_hum': 77.0, 'pred_hum': 81.7661190067, 'hum_diff (%)': 6.19}\n",
            "{'index': 15, 'real_temp': 24.0416, 'pred_temp': 25.828952733700007, 'temp_diff (%)': 7.43, 'real_rain': 142.166, 'pred_rain': 135.09684578999995, 'rain_diff (%)': 4.97, 'real_hum': 71.0, 'pred_hum': 69.2023080798, 'hum_diff (%)': 2.53}\n",
            "{'index': 17, 'real_temp': 26.395, 'pred_temp': 28.38339167420004, 'temp_diff (%)': 7.53, 'real_rain': 168.358, 'pred_rain': 169.06451033300004, 'rain_diff (%)': 0.42, 'real_hum': 74.0, 'pred_hum': 79.06587146170001, 'hum_diff (%)': 6.85}\n",
            "{'index': 18, 'real_temp': 27.07, 'pred_temp': 25.6599191986, 'temp_diff (%)': 5.21, 'real_rain': 207.35, 'pred_rain': 203.06459195699986, 'rain_diff (%)': 2.07, 'real_hum': 72.0, 'pred_hum': 75.62036155150004, 'hum_diff (%)': 5.03}\n",
            "{'index': 19, 'real_temp': 24.475, 'pred_temp': 25.805901707599997, 'temp_diff (%)': 5.44, 'real_rain': 114.658, 'pred_rain': 110.42208828600003, 'rain_diff (%)': 3.69, 'real_hum': 72.0, 'pred_hum': 74.63092531480004, 'hum_diff (%)': 3.65}\n"
          ]
        },
        {
          "output_type": "stream",
          "name": "stderr",
          "text": [
            "/usr/local/lib/python3.11/dist-packages/sklearn/utils/validation.py:2739: UserWarning: X does not have valid feature names, but RandomForestRegressor was fitted with feature names\n",
            "  warnings.warn(\n",
            "/usr/local/lib/python3.11/dist-packages/sklearn/utils/validation.py:2739: UserWarning: X does not have valid feature names, but RandomForestRegressor was fitted with feature names\n",
            "  warnings.warn(\n",
            "/usr/local/lib/python3.11/dist-packages/sklearn/utils/validation.py:2739: UserWarning: X does not have valid feature names, but RandomForestRegressor was fitted with feature names\n",
            "  warnings.warn(\n",
            "/usr/local/lib/python3.11/dist-packages/sklearn/utils/validation.py:2739: UserWarning: X does not have valid feature names, but RandomForestRegressor was fitted with feature names\n",
            "  warnings.warn(\n",
            "/usr/local/lib/python3.11/dist-packages/sklearn/utils/validation.py:2739: UserWarning: X does not have valid feature names, but RandomForestRegressor was fitted with feature names\n",
            "  warnings.warn(\n",
            "/usr/local/lib/python3.11/dist-packages/sklearn/utils/validation.py:2739: UserWarning: X does not have valid feature names, but RandomForestRegressor was fitted with feature names\n",
            "  warnings.warn(\n",
            "/usr/local/lib/python3.11/dist-packages/sklearn/utils/validation.py:2739: UserWarning: X does not have valid feature names, but RandomForestRegressor was fitted with feature names\n",
            "  warnings.warn(\n"
          ]
        }
      ]
    },
    {
      "cell_type": "code",
      "source": [
        "import numpy as np\n",
        "import pandas as pd\n",
        "from scipy.stats import entropy\n",
        "\n",
        "# Load datasets\n",
        "training_data = pd.read_excel( \"/content/drive/MyDrive/Kaggel.xlsx\" )  # Reference distribution\n",
        "api_data = pd.read_excel( \"/content/drive/MyDrive/THRD.xlsx\")  # Real-time API data\n",
        "\n",
        "# Select relevant features (temperature, rainfall, humidity)\n",
        "features = [\"temperature\", \"rainfall\", \"humidity\"]\n",
        "\n",
        "# Function to calculate KL divergence\n",
        "def kl_divergence(p_data, q_data, bins=20):\n",
        "    kl_values = {}\n",
        "    for feature in features:\n",
        "        # Compute histograms (probability distributions)\n",
        "        p_hist, bin_edges = np.histogram(p_data[feature], bins=bins, density=True)\n",
        "        q_hist, _ = np.histogram(q_data[feature], bins=bin_edges, density=True)\n",
        "\n",
        "        # Replace zeros to avoid log(0) errors\n",
        "        q_hist = np.where(q_hist == 0, 1e-10, q_hist)\n",
        "\n",
        "        # Compute KL divergence\n",
        "        kl = entropy(p_hist, q_hist)\n",
        "        kl_values[feature] = kl\n",
        "\n",
        "    return kl_values\n",
        "\n",
        "# Calculate KL divergence for each feature\n",
        "kl_results = kl_divergence(training_data, api_data)\n",
        "\n",
        "# Print results\n",
        "for feature, kl_value in kl_results.items():\n",
        "    print(f\"KL Divergence for {feature}: {kl_value:.4f}\")\n"
      ],
      "metadata": {
        "id": "8aVMpY6Suftg",
        "colab": {
          "base_uri": "https://localhost:8080/"
        },
        "outputId": "7ed305ea-dc46-4a33-888e-08e2bd7881d8"
      },
      "execution_count": null,
      "outputs": [
        {
          "output_type": "stream",
          "name": "stdout",
          "text": [
            "KL Divergence for temperature: 3.2584\n",
            "KL Divergence for rainfall: 4.8245\n",
            "KL Divergence for humidity: 13.9556\n"
          ]
        }
      ]
    },
    {
      "cell_type": "code",
      "source": [
        "import numpy as np\n",
        "import pandas as pd\n",
        "from scipy.stats import entropy\n",
        "\n",
        "# Load datasets\n",
        "training_data = pd.read_excel( \"/content/drive/MyDrive/Kaggel 1.xlsx\" )  # Reference distribution\n",
        "api_data = pd.read_excel( \"/content/drive/MyDrive/API 1.xlsx\")  # Real-time API data\n",
        "\n",
        "# Strip spaces from column names in the API data\n",
        "api_data.columns = api_data.columns.str.strip()\n",
        "\n",
        "# Now check the columns again to ensure they match\n",
        "print(\"API Data Columns after stripping spaces:\", api_data.columns)\n",
        "\n",
        "# Print the column names to check for issues\n",
        "print(\"Training Data Columns:\", training_data.columns)\n",
        "print(\"API Data Columns:\", api_data.columns)\n",
        "\n",
        "\n",
        "# Select relevant features (temperature, rainfall, humidity)\n",
        "features = [\"temperature\", \"rainfall\", \"humidity\"]\n",
        "\n",
        "\n",
        "# If 'rainfall' has spaces in either dataset, rename it\n",
        "training_data = training_data.rename(columns={'rainfall ': 'rainfall'})\n",
        "api_data = api_data.rename(columns={'rainfall ': 'rainfall'})\n",
        "\n",
        "\n",
        "# Function to calculate KL divergence\n",
        "def kl_divergence(p_data, q_data, bins=20):\n",
        "    kl_values = {}\n",
        "    for feature in features:\n",
        "        # Compute histograms (probability distributions)\n",
        "        p_hist, bin_edges = np.histogram(p_data[feature], bins=bins, density=True)\n",
        "        q_hist, _ = np.histogram(q_data[feature], bins=bin_edges, density=True)\n",
        "\n",
        "        # Replace zeros to avoid log(0) errors\n",
        "        q_hist = np.where(q_hist == 0, 1e-10, q_hist)\n",
        "\n",
        "        # Compute KL divergence\n",
        "        kl = entropy(p_hist, q_hist)\n",
        "        kl_values[feature] = kl\n",
        "\n",
        "    return kl_values\n",
        "\n",
        "# Calculate KL divergence for each feature\n",
        "kl_results = kl_divergence(training_data, api_data)\n",
        "\n",
        "# Print results\n",
        "for feature, kl_value in kl_results.items():\n",
        "    print(f\"KL Divergence for {feature}: {kl_value:.4f}\")\n"
      ],
      "metadata": {
        "colab": {
          "base_uri": "https://localhost:8080/"
        },
        "id": "ZLwOFXZzl_zK",
        "outputId": "176f6915-5069-4aad-d765-2f69b7fa9016"
      },
      "execution_count": null,
      "outputs": [
        {
          "output_type": "stream",
          "name": "stdout",
          "text": [
            "API Data Columns after stripping spaces: Index(['temperature', 'rainfall', 'humidity'], dtype='object')\n",
            "Training Data Columns: Index(['temperature', 'rainfall', 'humidity'], dtype='object')\n",
            "API Data Columns: Index(['temperature', 'rainfall', 'humidity'], dtype='object')\n",
            "KL Divergence for temperature: 5.9728\n",
            "KL Divergence for rainfall: nan\n",
            "KL Divergence for humidity: 8.5639\n"
          ]
        },
        {
          "output_type": "stream",
          "name": "stderr",
          "text": [
            "/usr/local/lib/python3.11/dist-packages/numpy/lib/histograms.py:885: RuntimeWarning: invalid value encountered in divide\n",
            "  return n/db/n.sum(), bin_edges\n"
          ]
        }
      ]
    },
    {
      "cell_type": "code",
      "source": [],
      "metadata": {
        "id": "j13098FAmZWi"
      },
      "execution_count": null,
      "outputs": []
    }
  ]
}