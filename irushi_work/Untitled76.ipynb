{
  "nbformat": 4,
  "nbformat_minor": 0,
  "metadata": {
    "colab": {
      "provenance": []
    },
    "kernelspec": {
      "name": "python3",
      "display_name": "Python 3"
    },
    "language_info": {
      "name": "python"
    }
  },
  "cells": [
    {
      "cell_type": "code",
      "execution_count": 1,
      "metadata": {
        "colab": {
          "base_uri": "https://localhost:8080/"
        },
        "id": "jT_4ikxVAtgK",
        "outputId": "2fcf9473-7f24-4a07-f265-d8a5275fd66e"
      },
      "outputs": [
        {
          "output_type": "stream",
          "name": "stdout",
          "text": [
            "Requirement already satisfied: requests in /usr/local/lib/python3.11/dist-packages (2.32.3)\n",
            "Collecting requests_cache\n",
            "  Downloading requests_cache-1.2.1-py3-none-any.whl.metadata (9.9 kB)\n",
            "Collecting retry_requests\n",
            "  Downloading retry_requests-2.0.0-py3-none-any.whl.metadata (2.6 kB)\n",
            "Collecting openmeteo_requests\n",
            "  Downloading openmeteo_requests-1.3.0-py3-none-any.whl.metadata (9.7 kB)\n",
            "Requirement already satisfied: charset-normalizer<4,>=2 in /usr/local/lib/python3.11/dist-packages (from requests) (3.4.1)\n",
            "Requirement already satisfied: idna<4,>=2.5 in /usr/local/lib/python3.11/dist-packages (from requests) (3.10)\n",
            "Requirement already satisfied: urllib3<3,>=1.21.1 in /usr/local/lib/python3.11/dist-packages (from requests) (2.3.0)\n",
            "Requirement already satisfied: certifi>=2017.4.17 in /usr/local/lib/python3.11/dist-packages (from requests) (2025.1.31)\n",
            "Requirement already satisfied: attrs>=21.2 in /usr/local/lib/python3.11/dist-packages (from requests_cache) (25.1.0)\n",
            "Collecting cattrs>=22.2 (from requests_cache)\n",
            "  Downloading cattrs-24.1.2-py3-none-any.whl.metadata (8.4 kB)\n",
            "Requirement already satisfied: platformdirs>=2.5 in /usr/local/lib/python3.11/dist-packages (from requests_cache) (4.3.6)\n",
            "Collecting url-normalize>=1.4 (from requests_cache)\n",
            "  Downloading url_normalize-1.4.3-py2.py3-none-any.whl.metadata (3.1 kB)\n",
            "Collecting openmeteo-sdk>=1.4.0 (from openmeteo_requests)\n",
            "  Downloading openmeteo_sdk-1.19.0-py3-none-any.whl.metadata (935 bytes)\n",
            "Requirement already satisfied: flatbuffers==25.2.10 in /usr/local/lib/python3.11/dist-packages (from openmeteo-sdk>=1.4.0->openmeteo_requests) (25.2.10)\n",
            "Requirement already satisfied: six in /usr/local/lib/python3.11/dist-packages (from url-normalize>=1.4->requests_cache) (1.17.0)\n",
            "Downloading requests_cache-1.2.1-py3-none-any.whl (61 kB)\n",
            "\u001b[2K   \u001b[90m━━━━━━━━━━━━━━━━━━━━━━━━━━━━━━━━━━━━━━━━\u001b[0m \u001b[32m61.4/61.4 kB\u001b[0m \u001b[31m3.4 MB/s\u001b[0m eta \u001b[36m0:00:00\u001b[0m\n",
            "\u001b[?25hDownloading retry_requests-2.0.0-py3-none-any.whl (15 kB)\n",
            "Downloading openmeteo_requests-1.3.0-py3-none-any.whl (6.0 kB)\n",
            "Downloading cattrs-24.1.2-py3-none-any.whl (66 kB)\n",
            "\u001b[2K   \u001b[90m━━━━━━━━━━━━━━━━━━━━━━━━━━━━━━━━━━━━━━━━\u001b[0m \u001b[32m66.4/66.4 kB\u001b[0m \u001b[31m4.8 MB/s\u001b[0m eta \u001b[36m0:00:00\u001b[0m\n",
            "\u001b[?25hDownloading openmeteo_sdk-1.19.0-py3-none-any.whl (15 kB)\n",
            "Downloading url_normalize-1.4.3-py2.py3-none-any.whl (6.8 kB)\n",
            "Installing collected packages: url-normalize, openmeteo-sdk, cattrs, retry_requests, requests_cache, openmeteo_requests\n",
            "Successfully installed cattrs-24.1.2 openmeteo-sdk-1.19.0 openmeteo_requests-1.3.0 requests_cache-1.2.1 retry_requests-2.0.0 url-normalize-1.4.3\n"
          ]
        }
      ],
      "source": [
        "!pip install requests requests_cache retry_requests openmeteo_requests\n"
      ]
    },
    {
      "cell_type": "code",
      "source": [
        "import requests\n",
        "\n",
        "def get_user_location():\n",
        "    \"\"\"\n",
        "    Fetch the user's approximate location using IP-based geolocation.\n",
        "    \"\"\"\n",
        "    try:\n",
        "        response = requests.get(\"https://ipinfo.io/json\")\n",
        "        data = response.json()\n",
        "\n",
        "        if \"loc\" in data:\n",
        "            lat, lon = map(float, data[\"loc\"].split(\",\"))\n",
        "            return lat, lon, data[\"city\"]\n",
        "        else:\n",
        "            raise ValueError(\"Could not fetch location.\")\n",
        "\n",
        "    except requests.RequestException as e:\n",
        "        raise ValueError(f\"Error fetching location: {e}\")\n",
        "\n",
        "# Example Usage\n",
        "lat, lon, city = get_user_location()\n",
        "print(f\"Detected Location: {city} ({lat}, {lon})\")\n"
      ],
      "metadata": {
        "colab": {
          "base_uri": "https://localhost:8080/"
        },
        "id": "5-3LDvbmA8au",
        "outputId": "1371a62b-5f2a-4c29-df8b-0ffe9522e27c"
      },
      "execution_count": 2,
      "outputs": [
        {
          "output_type": "stream",
          "name": "stdout",
          "text": [
            "Detected Location: Las Vegas (36.175, -115.1372)\n"
          ]
        }
      ]
    },
    {
      "cell_type": "code",
      "source": [
        "import openmeteo_requests\n",
        "import requests_cache\n",
        "from retry_requests import retry\n",
        "import requests\n",
        "\n",
        "# Open-Meteo API setup\n",
        "cache_session = requests_cache.CachedSession('.cache', expire_after=3600)\n",
        "retry_session = retry(cache_session, retries=5, backoff_factor=0.2)\n",
        "openmeteo = openmeteo_requests.Client(session=retry_session)\n",
        "\n",
        "# IP Stack API Setup (Replace with your actual API key)\n",
        "API_KEY = \"e5f50a554cd6931ae7a4a59de75cdd25\"\n",
        "ipstack_url = f\"http://api.ipstack.com/check?access_key={API_KEY}\"\n",
        "\n",
        "def get_user_location():\n",
        "    \"\"\"\n",
        "    Fetch the user's current location (latitude, longitude) and city using IP Stack.\n",
        "    \"\"\"\n",
        "    try:\n",
        "        # Send request to ipstack\n",
        "        response = requests.get(ipstack_url)\n",
        "        data = response.json()\n",
        "\n",
        "        # Extract location details\n",
        "        lat = data.get('latitude')\n",
        "        lon = data.get('longitude')\n",
        "        city = data.get('city', 'Unknown')\n",
        "\n",
        "        return lat, lon, city\n",
        "    except Exception as e:\n",
        "        print(f\"Error fetching location: {e}\")\n",
        "        return None, None, None\n",
        "\n",
        "def get_weather_data(lat, lon):\n",
        "    \"\"\"\n",
        "    Fetch current weather data from Open-Meteo API using latitude and longitude.\n",
        "    \"\"\"\n",
        "    # Open-Meteo API URL (No API key required)\n",
        "    url = \"https://api.open-meteo.com/v1/forecast\"\n",
        "\n",
        "    # Define parameters for current weather and hourly weather data\n",
        "    params = {\n",
        "        \"latitude\": lat,\n",
        "        \"longitude\": lon,\n",
        "        \"current_weather\": True,  # Fetch current weather\n",
        "        \"hourly\": [\"relative_humidity_2m\", \"apparent_temperature\"]  # Get hourly humidity and temperature\n",
        "    }\n",
        "\n",
        "    # Fetch data\n",
        "    responses = openmeteo.weather_api(url, params=params)\n",
        "\n",
        "    # Process the response\n",
        "    response = responses[0]\n",
        "\n",
        "    # Extract weather data\n",
        "    current = response.Current()\n",
        "    humidity = current.Variables(0).Value()  # Humidity\n",
        "    temperature = current.Variables(1).Value()  # Temperature\n",
        "\n",
        "    return humidity, temperature\n",
        "\n",
        "# Step 1: Get user's location\n",
        "lat, lon, city = get_user_location()\n",
        "\n",
        "if lat is not None and lon is not None:\n",
        "    print(f\"Detected Location: {city} ({lat}, {lon})\")\n",
        "\n",
        "    # Step 2: Fetch weather data based on location\n",
        "    humidity, temperature = get_weather_data(lat, lon)\n",
        "\n",
        "    # Step 3: Print the fetched data\n",
        "    print(f\"Weather Data for {city}:\")\n",
        "    print(f\" - Temperature: {temperature}°C\")\n",
        "    print(f\" - Humidity: {humidity}%\")\n",
        "else:\n",
        "    print(\"Could not retrieve location. Please check your connection or IP.\")\n"
      ],
      "metadata": {
        "colab": {
          "base_uri": "https://localhost:8080/"
        },
        "id": "tgvs4GyuyDcy",
        "outputId": "22038111-528a-4547-c4b7-8976151e527e"
      },
      "execution_count": 12,
      "outputs": [
        {
          "output_type": "stream",
          "name": "stdout",
          "text": [
            "Detected Location: Sunrise Manor (36.142398834228516, -115.224853515625)\n",
            "Weather Data for Sunrise Manor:\n",
            " - Temperature: 18.356470108032227°C\n",
            " - Humidity: 9.170999526977539%\n"
          ]
        }
      ]
    }
  ]
}