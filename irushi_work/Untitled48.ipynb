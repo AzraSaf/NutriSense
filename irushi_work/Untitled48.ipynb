{
  "nbformat": 4,
  "nbformat_minor": 0,
  "metadata": {
    "colab": {
      "provenance": []
    },
    "kernelspec": {
      "name": "python3",
      "display_name": "Python 3"
    },
    "language_info": {
      "name": "python"
    }
  },
  "cells": [
    {
      "cell_type": "code",
      "execution_count": 2,
      "metadata": {
        "id": "y9kxDccG1wlA"
      },
      "outputs": [],
      "source": [
        "# Cell 1: Imports and Abstract Base Classes\n",
        "\n",
        "from abc import ABC, abstractmethod\n"
      ]
    },
    {
      "cell_type": "code",
      "source": [
        "# Cell 2: Domain Classes\n",
        "\n",
        "class Soil:\n",
        "    def __init__(self, soil_type):\n",
        "        self.soil_type = soil_type.lower()\n",
        "        # Define common soil characteristics\n",
        "        soil_characteristics = {\n",
        "            \"loamy\": {\"nutrient_retention\": \"high\", \"pH_range\": (6.0, 7.5)},\n",
        "            \"sandy\": {\"nutrient_retention\": \"low\", \"pH_range\": (5.5, 6.5)},\n",
        "            \"clay\": {\"nutrient_retention\": \"medium\", \"pH_range\": (6.0, 7.0)},\n",
        "            \"peat\": {\"nutrient_retention\": \"high\", \"pH_range\": (5.5, 6.5)},\n",
        "            \"alluvium\": {\"nutrient_retention\": \"high\", \"pH_range\": (6.0, 7.0)}\n",
        "        }\n",
        "        self.attributes = soil_characteristics.get(self.soil_type,\n",
        "                                                     {\"nutrient_retention\": \"medium\", \"pH_range\": (6.0, 7.0)})\n",
        "\n"
      ],
      "metadata": {
        "id": "c7l6Car92RNf"
      },
      "execution_count": 27,
      "outputs": []
    },
    {
      "cell_type": "code",
      "source": [
        "class Environment:\n",
        "    def __init__(self, temperature, humidity):\n",
        "        self.temperature = temperature  # in °C\n",
        "        self.humidity = humidity        # in %\n",
        "        # Optimal conditions per plant type\n",
        "        self.optimal_conditions = {\n",
        "            \"banana\": {\"temperature\": (25, 30), \"humidity\": (50, 80)},\n",
        "            \"coffee\": {\"temperature\": (17, 26), \"humidity\": (65, 85)},\n",
        "            \"rice\":   {\"temperature\": (20, 30), \"humidity\": (70, 90)}\n",
        "        }\n"
      ],
      "metadata": {
        "id": "Au-Yd_h_2blu"
      },
      "execution_count": 28,
      "outputs": []
    },
    {
      "cell_type": "code",
      "source": [
        "class Plant(ABC):\n",
        "    def __init__(self, name):\n",
        "        self.name = name.lower()\n",
        "        self.nutrients = {}  # To be defined in subclasses\n",
        "        self.domain_info = {}  # Contains domain-specific guidelines\n",
        "\n",
        "    @abstractmethod\n",
        "    def set_nutrients(self):\n",
        "        pass"
      ],
      "metadata": {
        "id": "es55AFM32dD_"
      },
      "execution_count": 30,
      "outputs": []
    },
    {
      "cell_type": "code",
      "source": [
        "class Banana(Plant):\n",
        "    def __init__(self):\n",
        "        super().__init__(\"banana\")\n",
        "        self.domain_info = {\n",
        "            \"optimal_soil\": \"loamy\",\n",
        "            \"pH_range\": (6.0, 7.5),\n",
        "            \"nutrients\": {\n",
        "                \"potassium\": \"Foliar spray of 2% KCl weekly until symptoms disappear.\",\n",
        "                \"iron\": \"Soil application of FeSO4 (5 g/ha) or foliar spray of 0.5% FeSO4 weekly.\",\n",
        "                \"magnesium\": \"Foliar spray of 5% MgSO4 or application of dolomite limestone at 3 t/ha.\"\n",
        "            }\n",
        "        }\n",
        "        self.set_nutrients()\n",
        "\n",
        "    def set_nutrients(self):\n",
        "        self.nutrients = {\"potassium\": None, \"iron\": None, \"magnesium\": None}\n"
      ],
      "metadata": {
        "id": "kG5B3PnR2i1R"
      },
      "execution_count": 17,
      "outputs": []
    },
    {
      "cell_type": "code",
      "source": [
        "# Coffee: requires potassium, iron, and magnesium\n",
        "class Coffee(Plant):\n",
        "    def __init__(self):\n",
        "        super().__init__(\"coffee\")\n",
        "        self.domain_info = {\n",
        "            \"optimal_soil\": \"peat-based, slightly acidic\",\n",
        "            \"pH_range\": (5.5, 6.5),\n",
        "            \"nutrients\": {\n",
        "                \"potassium\": \"Foliar application of 0.1% MOP.\",\n",
        "                \"iron\": \"Ensure good drainage; use iron sulphate or foliar spray of iron chelate.\",\n",
        "                \"magnesium\": \"Soil application of dolomitic lime or foliar spray of 0.1% magnesium sulphate.\"\n",
        "            }\n",
        "        }\n",
        "        self.set_nutrients()\n",
        "\n",
        "    def set_nutrients(self):\n",
        "        self.nutrients = {\"potassium\": None, \"iron\": None, \"magnesium\": None}\n"
      ],
      "metadata": {
        "id": "zxJtqpLv2qfa"
      },
      "execution_count": 31,
      "outputs": []
    },
    {
      "cell_type": "code",
      "source": [
        "# Rice: requires nitrogen, phosphorus, and potassium\n",
        "class Rice(Plant):\n",
        "    def __init__(self):\n",
        "        super().__init__(\"rice\")\n",
        "        self.domain_info = {\n",
        "            \"optimal_soil\": \"clay or clay loam with good water retention\",\n",
        "            \"pH_range\": (5.5, 6.5),\n",
        "            \"nutrients\": {\n",
        "                \"nitrogen\": \"Apply nitrate-based fertilizers in split doses for healthy foliage.\",\n",
        "                \"phosphorus\": \"Basal application to promote root development and tillering.\",\n",
        "                \"potassium\": \"Maintain adequate levels to improve spikelet formation and grain filling.\"\n",
        "            }\n",
        "        }\n",
        "        self.set_nutrients()\n",
        "\n",
        "    def set_nutrients(self):\n",
        "        self.nutrients = {\"nitrogen\": None, \"phosphorus\": None, \"potassium\": None}"
      ],
      "metadata": {
        "id": "AIYHQhIb2vlZ"
      },
      "execution_count": 32,
      "outputs": []
    },
    {
      "cell_type": "code",
      "source": [
        "# Cell 4: Deficiency Evaluator\n",
        "\n",
        "class DeficiencyEvaluator:\n",
        "    \"\"\"\n",
        "    Evaluates nutrient deficiency severity based on soil nutrient retention.\n",
        "    Mapping: high retention -> Mild deficiency; medium -> Moderate; low -> Severe.\n",
        "    \"\"\"\n",
        "    def __init__(self, plant, soil, environment):\n",
        "        self.plant = plant\n",
        "        self.soil = soil\n",
        "        self.environment = environment\n",
        "        self.severity_mapping = {\"high\": \"Mild\", \"medium\": \"Moderate\", \"low\": \"Severe\"}\n",
        "\n",
        "    def evaluate(self):\n",
        "        deficiency_results = {}\n",
        "        retention = self.soil.attributes.get(\"nutrient_retention\", \"medium\")\n",
        "        severity = self.severity_mapping.get(retention, \"Moderate\")\n",
        "        # For demonstration, assign the same severity to all nutrients.\n",
        "        for nutrient in self.plant.nutrients.keys():\n",
        "            deficiency_results[nutrient] = severity\n",
        "        return deficiency_results\n"
      ],
      "metadata": {
        "id": "ygr1U7yy26Al"
      },
      "execution_count": 34,
      "outputs": []
    },
    {
      "cell_type": "code",
      "source": [
        "# Cell 5: Recommendation Strategies and Recommendation Engine\n",
        "\n",
        "class RecommendationStrategy(ABC):\n",
        "    @abstractmethod\n",
        "    def get_recommendation(self, nutrient, domain_recommendation):\n",
        "        pass\n",
        "\n",
        "class MildDeficiencyStrategy(RecommendationStrategy):\n",
        "    def get_recommendation(self, nutrient, domain_recommendation):\n",
        "        return f\"Mild deficiency for {nutrient}. Standard maintenance is sufficient. ({domain_recommendation})\"\n",
        "\n",
        "class ModerateDeficiencyStrategy(RecommendationStrategy):\n",
        "    def get_recommendation(self, nutrient, domain_recommendation):\n",
        "        return f\"Moderate deficiency for {nutrient}. Consider moderate fertilizer application. ({domain_recommendation})\"\n",
        "\n",
        "class SevereDeficiencyStrategy(RecommendationStrategy):\n",
        "    def get_recommendation(self, nutrient, domain_recommendation):\n",
        "        return f\"Severe deficiency for {nutrient}. Intensive correction required. ({domain_recommendation})\"\n",
        "\n",
        "class RecommendationEngine:\n",
        "    def __init__(self, plant, deficiency_results):\n",
        "        self.plant = plant\n",
        "        self.deficiency_results = deficiency_results\n",
        "        self.strategy_map = {\n",
        "            \"Mild\": MildDeficiencyStrategy(),\n",
        "            \"Moderate\": ModerateDeficiencyStrategy(),\n",
        "            \"Severe\": SevereDeficiencyStrategy()\n",
        "        }\n",
        "\n",
        "    def generate_recommendations(self):\n",
        "        recommendations = {}\n",
        "        for nutrient, severity in self.deficiency_results.items():\n",
        "            strategy = self.strategy_map.get(severity, ModerateDeficiencyStrategy())\n",
        "            domain_rec = self.plant.domain_info[\"nutrients\"].get(nutrient, \"No guideline available.\")\n",
        "            recommendations[nutrient] = strategy.get_recommendation(nutrient, domain_rec)\n",
        "        return recommendations\n",
        "\n",
        "    def additional_details(self, soil, environment):\n",
        "        details = {}\n",
        "        # Soil suitability: Check if the soil type contains the optimal soil keyword.\n",
        "        optimal_soil = self.plant.domain_info[\"optimal_soil\"].lower()\n",
        "        details[\"soil_suitability\"] = \"Suitable\" if optimal_soil in soil.soil_type else \"Not optimal\"\n",
        "\n",
        "        # Temperature and humidity evaluation\n",
        "        optimal = environment.optimal_conditions.get(self.plant.name, {\"temperature\": (0,0), \"humidity\": (0,0)})\n",
        "        temp_status = \"matches\" if optimal[\"temperature\"][0] <= environment.temperature <= optimal[\"temperature\"][1] else \"does not match\"\n",
        "        humidity_status = \"matches\" if optimal[\"humidity\"][0] <= environment.humidity <= optimal[\"humidity\"][1] else \"does not match\"\n",
        "        details[\"temperature\"] = f\"Temperature {temp_status} optimal range.\"\n",
        "        details[\"humidity\"] = f\"Humidity {humidity_status} optimal range.\"\n",
        "        return details\n"
      ],
      "metadata": {
        "id": "b2oXwKfm2-p_"
      },
      "execution_count": 35,
      "outputs": []
    },
    {
      "cell_type": "code",
      "source": [
        "# Cell 6: Main Implementation & Testing\n",
        "\n",
        "def main():\n",
        "    # Simulated user inputs (can be replaced with input() in interactive sessions)\n",
        "    soil_input = \"loamy\"      # Options: loamy, sandy, clay, peat, alluvium, etc.\n",
        "    temperature_input = 28    # in °C\n",
        "    humidity_input = 75       # in %\n",
        "    plant_choice = \"banana\"   # Options: banana, coffee, rice\n",
        "\n",
        "    # Create instances\n",
        "    soil = Soil(soil_input)\n",
        "    environment = Environment(temperature_input, humidity_input)\n",
        "\n",
        "    if plant_choice.lower() == \"banana\":\n",
        "        plant = Banana()\n",
        "    elif plant_choice.lower() == \"coffee\":\n",
        "        plant = Coffee()\n",
        "    elif plant_choice.lower() == \"rice\":\n",
        "        plant = Rice()\n",
        "    else:\n",
        "        print(\"Invalid plant choice. Defaulting to Banana.\")\n",
        "        plant = Banana()\n",
        "\n",
        "    # Evaluate nutrient deficiency\n",
        "    evaluator = DeficiencyEvaluator(plant, soil, environment)\n",
        "    deficiency_results = evaluator.evaluate()\n",
        "\n",
        "    # Generate recommendations\n",
        "    engine = RecommendationEngine(plant, deficiency_results)\n",
        "    nutrient_recommendations = engine.generate_recommendations()\n",
        "    extra_details = engine.additional_details(soil, environment)\n",
        "\n",
        "    # Display results\n",
        "    print(\"=== Fertilizer Recommendations ===\")\n",
        "    for nutrient, recommendation in nutrient_recommendations.items():\n",
        "        print(f\"{nutrient.capitalize()}: {recommendation}\")\n",
        "\n",
        "    print(\"\\n=== Additional Details ===\")\n",
        "    for key, detail in extra_details.items():\n",
        "        print(f\"{key.capitalize()}: {detail}\")\n",
        "\n",
        "# Run the main function\n",
        "if __name__ == \"__main__\":\n",
        "    main()\n"
      ],
      "metadata": {
        "colab": {
          "base_uri": "https://localhost:8080/"
        },
        "id": "fR1Z1r2R3FvW",
        "outputId": "122d310b-4cea-47a8-fcf9-995d2ace3a43"
      },
      "execution_count": 36,
      "outputs": [
        {
          "output_type": "stream",
          "name": "stdout",
          "text": [
            "=== Fertilizer Recommendations ===\n",
            "Potassium: Mild deficiency for potassium. Standard maintenance is sufficient. (Foliar spray of 2% KCl weekly until symptoms disappear.)\n",
            "Iron: Mild deficiency for iron. Standard maintenance is sufficient. (Soil application of FeSO4 (5 g/ha) or foliar spray of 0.5% FeSO4 weekly.)\n",
            "Magnesium: Mild deficiency for magnesium. Standard maintenance is sufficient. (Foliar spray of 5% MgSO4 or application of dolomite limestone at 3 t/ha.)\n",
            "\n",
            "=== Additional Details ===\n",
            "Soil_suitability: Suitable\n",
            "Temperature: Temperature matches optimal range.\n",
            "Humidity: Humidity matches optimal range.\n"
          ]
        }
      ]
    }
  ]
}